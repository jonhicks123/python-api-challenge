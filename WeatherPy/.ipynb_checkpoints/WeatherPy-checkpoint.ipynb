{
 "cells": [
  {
   "cell_type": "markdown",
   "metadata": {},
   "source": [
    "# WeatherPy\n",
    "----\n",
    "\n",
    "#### Note\n",
    "* Instructions have been included for each segment. You do not have to follow them exactly, but they are included to help you think through the steps."
   ]
  },
  {
   "cell_type": "code",
   "execution_count": 1,
   "metadata": {
    "scrolled": true
   },
   "outputs": [],
   "source": [
    "# Dependencies and Setup\n",
    "import matplotlib.pyplot as plt\n",
    "import pandas as pd\n",
    "import numpy as np\n",
    "import requests\n",
    "import time\n",
    "from scipy.stats import linregress\n",
    "\n",
    "# Import API key\n",
    "from api_keys import weather_api_key\n",
    "\n",
    "# Incorporated citipy to determine city based on latitude and longitude\n",
    "from citipy import citipy\n",
    "\n",
    "# Output File (CSV)\n",
    "output_data_file = \"output_data/cities.csv\"\n",
    "\n",
    "# Range of latitudes and longitudes\n",
    "lat_range = (-90, 90)\n",
    "lng_range = (-180, 180)"
   ]
  },
  {
   "cell_type": "markdown",
   "metadata": {},
   "source": [
    "## Generate Cities List"
   ]
  },
  {
   "cell_type": "code",
   "execution_count": 2,
   "metadata": {},
   "outputs": [
    {
     "data": {
      "text/plain": [
       "724"
      ]
     },
     "execution_count": 2,
     "metadata": {},
     "output_type": "execute_result"
    }
   ],
   "source": [
    "# List for holding lat_lngs and cities\n",
    "lat_lngs = []\n",
    "cities = []\n",
    "\n",
    "# Create a set of random lat and lng combinations\n",
    "lats = np.random.uniform(lat_range[0], lat_range[1], size=1800)\n",
    "lngs = np.random.uniform(lng_range[0], lng_range[1], size=1800)\n",
    "lat_lngs = zip(lats, lngs)\n",
    "\n",
    "# Identify nearest city for each lat, lng combination\n",
    "for lat_lng in lat_lngs:\n",
    "    city = citipy.nearest_city(lat_lng[0], lat_lng[1]).city_name\n",
    "    \n",
    "    # If the city is unique, then add it to a our cities list\n",
    "    if city not in cities:\n",
    "        cities.append(city)\n",
    "\n",
    "# Print the city count to confirm sufficient count\n",
    "len(cities)"
   ]
  },
  {
   "cell_type": "markdown",
   "metadata": {},
   "source": [
    "### Perform API Calls\n",
    "* Perform a weather check on each city using a series of successive API calls.\n",
    "* Include a print log of each city as it'sbeing processed (with the city number and city name).\n"
   ]
  },
  {
   "cell_type": "code",
   "execution_count": 35,
   "metadata": {
    "scrolled": true
   },
   "outputs": [
    {
     "name": "stdout",
     "output_type": "stream",
     "text": [
      "Beginning Data Retrieval\n",
      "-----------------------------\n",
      "Processing Record 1 of Set 1 | esperance\n",
      "Processing Record 2 of Set 1 | nikolskoye\n",
      "Processing Record 3 of Set 1 | ushuaia\n",
      "Processing Record 4 of Set 1 | evensk\n",
      "City not found. Skipping to next available city.\n",
      "Processing Record 5 of Set 1 | paamiut\n",
      "Processing Record 6 of Set 1 | swan hill\n",
      "Processing Record 7 of Set 1 | bambanglipuro\n",
      "City not found. Skipping to next available city.\n",
      "Processing Record 8 of Set 1 | ancud\n",
      "Processing Record 9 of Set 1 | cidreira\n",
      "Processing Record 10 of Set 1 | vestmannaeyjar\n",
      "Processing Record 11 of Set 1 | tiksi\n",
      "Processing Record 12 of Set 1 | nijar\n",
      "Processing Record 13 of Set 1 | gravdal\n",
      "Processing Record 14 of Set 1 | mehamn\n",
      "Processing Record 15 of Set 1 | cabo san lucas\n",
      "Processing Record 16 of Set 1 | rikitea\n",
      "Processing Record 17 of Set 1 | teguise\n",
      "Processing Record 18 of Set 1 | codrington\n",
      "City not found. Skipping to next available city.\n",
      "Processing Record 19 of Set 1 | atocha\n",
      "Processing Record 20 of Set 1 | chuy\n",
      "Processing Record 21 of Set 1 | lavrentiya\n",
      "Processing Record 22 of Set 1 | norman wells\n",
      "Processing Record 23 of Set 1 | torit\n",
      "Processing Record 24 of Set 1 | talnakh\n",
      "Processing Record 25 of Set 1 | ponta do sol\n",
      "Processing Record 26 of Set 1 | sembe\n",
      "Processing Record 27 of Set 1 | butaritari\n",
      "Processing Record 28 of Set 1 | georgetown\n",
      "Processing Record 29 of Set 1 | damaturu\n",
      "Processing Record 30 of Set 1 | kiama\n",
      "Processing Record 31 of Set 1 | sangar\n",
      "Processing Record 32 of Set 1 | tiarei\n",
      "Processing Record 33 of Set 1 | yulara\n",
      "Processing Record 34 of Set 1 | hobart\n",
      "Processing Record 35 of Set 1 | qandala\n",
      "Processing Record 36 of Set 1 | chabahar\n",
      "City not found. Skipping to next available city.\n",
      "Processing Record 37 of Set 1 | pevek\n",
      "Processing Record 38 of Set 1 | kapaa\n",
      "Processing Record 39 of Set 1 | cortez\n",
      "Processing Record 40 of Set 1 | baryshivka\n",
      "Processing Record 41 of Set 1 | promyshlennaya\n",
      "Processing Record 42 of Set 1 | quatre cocos\n",
      "Processing Record 43 of Set 1 | marzuq\n",
      "Processing Record 44 of Set 1 | qaanaaq\n",
      "Processing Record 45 of Set 1 | sai buri\n",
      "Processing Record 46 of Set 1 | port elizabeth\n",
      "City not found. Skipping to next available city.\n",
      "Processing Record 47 of Set 1 | vaini\n",
      "Processing Record 48 of Set 1 | ghanzi\n",
      "Processing Record 49 of Set 1 | albany\n",
      "Processing Record 50 of Set 1 | hilo\n",
      "Processing Record 0 of Set 2 | puerto ayora\n",
      "Processing Record 1 of Set 2 | airai\n",
      "Processing Record 2 of Set 2 | lata\n",
      "Processing Record 3 of Set 2 | kruisfontein\n",
      "Processing Record 4 of Set 2 | busselton\n",
      "Processing Record 5 of Set 2 | maua\n",
      "Processing Record 6 of Set 2 | dikson\n",
      "Processing Record 7 of Set 2 | kaitangata\n",
      "Processing Record 8 of Set 2 | mataura\n",
      "Processing Record 9 of Set 2 | punta arenas\n",
      "Processing Record 10 of Set 2 | areia branca\n",
      "City not found. Skipping to next available city.\n",
      "Processing Record 11 of Set 2 | provideniya\n",
      "Processing Record 12 of Set 2 | jamestown\n",
      "Processing Record 13 of Set 2 | bluff\n",
      "Processing Record 14 of Set 2 | kununurra\n",
      "Processing Record 15 of Set 2 | tambopata\n",
      "Processing Record 16 of Set 2 | lompoc\n",
      "Processing Record 17 of Set 2 | manzhouli\n",
      "Processing Record 18 of Set 2 | kushmurun\n",
      "Processing Record 19 of Set 2 | granadilla de abona\n",
      "Processing Record 20 of Set 2 | sijunjung\n",
      "Processing Record 21 of Set 2 | rawson\n",
      "Processing Record 22 of Set 2 | caravelas\n",
      "Processing Record 23 of Set 2 | vila\n",
      "Processing Record 24 of Set 2 | talladega\n",
      "Processing Record 25 of Set 2 | silvassa\n",
      "Processing Record 26 of Set 2 | bemidji\n",
      "Processing Record 27 of Set 2 | nueve de julio\n",
      "Processing Record 28 of Set 2 | wadi musa\n",
      "Processing Record 29 of Set 2 | east london\n",
      "Processing Record 30 of Set 2 | bredasdorp\n",
      "Processing Record 31 of Set 2 | matagami\n",
      "Processing Record 32 of Set 2 | akita\n",
      "Processing Record 33 of Set 2 | wynyard\n",
      "Processing Record 34 of Set 2 | gao\n",
      "Processing Record 35 of Set 2 | gigmoto\n",
      "Processing Record 36 of Set 2 | havre-saint-pierre\n",
      "City not found. Skipping to next available city.\n",
      "Processing Record 37 of Set 2 | qaqortoq\n",
      "Processing Record 38 of Set 2 | daru\n",
      "Processing Record 39 of Set 2 | ponnani\n",
      "Processing Record 40 of Set 2 | fonte boa\n",
      "Processing Record 41 of Set 2 | arraial do cabo\n",
      "Processing Record 42 of Set 2 | margate\n",
      "City not found. Skipping to next available city.\n",
      "Processing Record 43 of Set 2 | nanchang\n",
      "Processing Record 44 of Set 2 | souillac\n",
      "Processing Record 45 of Set 2 | eyrarbakki\n",
      "Processing Record 46 of Set 2 | moose factory\n",
      "Processing Record 47 of Set 2 | mount isa\n",
      "Processing Record 48 of Set 2 | bowen\n",
      "Processing Record 49 of Set 2 | egvekinot\n",
      "Processing Record 50 of Set 2 | marawi\n",
      "Processing Record 0 of Set 3 | yellowknife\n",
      "Processing Record 1 of Set 3 | soverato\n",
      "City not found. Skipping to next available city.\n",
      "Processing Record 2 of Set 3 | taltal\n",
      "Processing Record 3 of Set 3 | tura\n",
      "Processing Record 4 of Set 3 | nambucca heads\n",
      "Processing Record 5 of Set 3 | tasiilaq\n",
      "Processing Record 6 of Set 3 | civitanova marche\n",
      "Processing Record 7 of Set 3 | petatlan\n",
      "Processing Record 8 of Set 3 | torbay\n",
      "Processing Record 9 of Set 3 | karratha\n",
      "Processing Record 10 of Set 3 | vostok\n",
      "Processing Record 11 of Set 3 | broken hill\n",
      "Processing Record 12 of Set 3 | ribeira grande\n",
      "Processing Record 13 of Set 3 | dakar\n",
      "Processing Record 14 of Set 3 | prince rupert\n",
      "Processing Record 15 of Set 3 | andenes\n",
      "Processing Record 16 of Set 3 | ilulissat\n",
      "City not found. Skipping to next available city.\n",
      "Processing Record 17 of Set 3 | new norfolk\n",
      "Processing Record 18 of Set 3 | sao filipe\n",
      "Processing Record 19 of Set 3 | longonjo\n",
      "Processing Record 20 of Set 3 | flin flon\n",
      "Processing Record 21 of Set 3 | olafsvik\n",
      "Processing Record 22 of Set 3 | hasaki\n",
      "Processing Record 23 of Set 3 | chimoio\n",
      "Processing Record 24 of Set 3 | bisert\n",
      "Processing Record 25 of Set 3 | asamankese\n",
      "Processing Record 26 of Set 3 | qurayyat\n",
      "Processing Record 27 of Set 3 | castro\n",
      "Processing Record 28 of Set 3 | roald\n",
      "Processing Record 29 of Set 3 | smila\n",
      "Processing Record 30 of Set 3 | barrow\n",
      "Processing Record 31 of Set 3 | isangel\n",
      "Processing Record 32 of Set 3 | pangnirtung\n",
      "Processing Record 33 of Set 3 | tromso\n",
      "Processing Record 34 of Set 3 | hermanus\n",
      "Processing Record 35 of Set 3 | brooks\n",
      "Processing Record 36 of Set 3 | sangmelima\n",
      "Processing Record 37 of Set 3 | upernavik\n",
      "Processing Record 38 of Set 3 | chicama\n",
      "Processing Record 39 of Set 3 | araouane\n",
      "Processing Record 40 of Set 3 | basco\n",
      "Processing Record 41 of Set 3 | severo-kurilsk\n",
      "Processing Record 42 of Set 3 | altus\n",
      "Processing Record 43 of Set 3 | narsaq\n",
      "Processing Record 44 of Set 3 | tuktoyaktuk\n",
      "Processing Record 45 of Set 3 | port alfred\n",
      "Processing Record 46 of Set 3 | mar del plata\n",
      "Processing Record 47 of Set 3 | urengoy\n",
      "Processing Record 48 of Set 3 | dawei\n",
      "City not found. Skipping to next available city.\n",
      "Processing Record 49 of Set 3 | atuona\n",
      "Processing Record 50 of Set 3 | salaga\n",
      "Processing Record 0 of Set 4 | ostrovnoy\n",
      "City not found. Skipping to next available city.\n",
      "Processing Record 1 of Set 4 | salalah\n",
      "Processing Record 2 of Set 4 | bubaque\n",
      "Processing Record 3 of Set 4 | alekseyevka\n",
      "Processing Record 4 of Set 4 | skowhegan\n",
      "Processing Record 5 of Set 4 | aklavik\n",
      "Processing Record 6 of Set 4 | gondanglegi\n",
      "Processing Record 7 of Set 4 | mastic beach\n",
      "Processing Record 8 of Set 4 | carnarvon\n",
      "Processing Record 9 of Set 4 | fairbanks\n",
      "Processing Record 10 of Set 4 | hamilton\n",
      "Processing Record 11 of Set 4 | dustlik\n",
      "Processing Record 12 of Set 4 | dhidhdhoo\n",
      "Processing Record 13 of Set 4 | kodiak\n",
      "City not found. Skipping to next available city.\n",
      "Processing Record 14 of Set 4 | hithadhoo\n",
      "Processing Record 15 of Set 4 | yagodnoye\n",
      "Processing Record 16 of Set 4 | davidson\n",
      "Processing Record 17 of Set 4 | leningradskiy\n",
      "Processing Record 18 of Set 4 | chumikan\n",
      "Processing Record 19 of Set 4 | dingle\n",
      "City not found. Skipping to next available city.\n",
      "Processing Record 20 of Set 4 | saint-augustin\n",
      "Processing Record 21 of Set 4 | barinas\n",
      "City not found. Skipping to next available city.\n",
      "Processing Record 22 of Set 4 | saint-philippe\n",
      "Processing Record 23 of Set 4 | srednekolymsk\n",
      "Processing Record 24 of Set 4 | rio grande\n",
      "Processing Record 25 of Set 4 | manggar\n",
      "Processing Record 26 of Set 4 | bethel\n",
      "City not found. Skipping to next available city.\n"
     ]
    },
    {
     "name": "stdout",
     "output_type": "stream",
     "text": [
      "Processing Record 27 of Set 4 | bambous virieux\n",
      "Processing Record 28 of Set 4 | iqaluit\n",
      "Processing Record 29 of Set 4 | tilichiki\n",
      "Processing Record 30 of Set 4 | surgut\n",
      "City not found. Skipping to next available city.\n",
      "Processing Record 31 of Set 4 | santa rosa\n",
      "Processing Record 32 of Set 4 | deputatskiy\n",
      "Processing Record 33 of Set 4 | chibombo\n",
      "Processing Record 34 of Set 4 | thompson\n",
      "Processing Record 35 of Set 4 | nome\n",
      "Processing Record 36 of Set 4 | san luis\n",
      "Processing Record 37 of Set 4 | litovko\n",
      "City not found. Skipping to next available city.\n",
      "Processing Record 38 of Set 4 | anadyr\n",
      "Processing Record 39 of Set 4 | bilibino\n",
      "Processing Record 40 of Set 4 | turukhansk\n",
      "Processing Record 41 of Set 4 | shimoda\n",
      "Processing Record 42 of Set 4 | sri aman\n",
      "Processing Record 43 of Set 4 | korcula\n",
      "City not found. Skipping to next available city.\n",
      "Processing Record 44 of Set 4 | portland\n",
      "Processing Record 45 of Set 4 | belmonte\n",
      "Processing Record 46 of Set 4 | salina cruz\n",
      "City not found. Skipping to next available city.\n",
      "Processing Record 47 of Set 4 | chokurdakh\n",
      "Processing Record 48 of Set 4 | padang\n",
      "Processing Record 49 of Set 4 | mahebourg\n",
      "Processing Record 50 of Set 4 | baghdad\n",
      "Processing Record 0 of Set 5 | ignacio zaragoza\n",
      "Processing Record 1 of Set 5 | san policarpo\n",
      "Processing Record 2 of Set 5 | faanui\n",
      "Processing Record 3 of Set 5 | pucallpa\n",
      "Processing Record 4 of Set 5 | sisimiut\n",
      "Processing Record 5 of Set 5 | wenling\n",
      "Processing Record 6 of Set 5 | avarua\n",
      "Processing Record 7 of Set 5 | naze\n",
      "Processing Record 8 of Set 5 | bismarck\n",
      "City not found. Skipping to next available city.\n",
      "Processing Record 9 of Set 5 | kavieng\n",
      "Processing Record 10 of Set 5 | zhigansk\n",
      "Processing Record 11 of Set 5 | black river\n",
      "Processing Record 12 of Set 5 | coquimbo\n",
      "Processing Record 13 of Set 5 | eha amufu\n",
      "Processing Record 14 of Set 5 | klaksvik\n",
      "Processing Record 15 of Set 5 | finnsnes\n",
      "Processing Record 16 of Set 5 | katsuura\n",
      "Processing Record 17 of Set 5 | tholos\n",
      "Processing Record 18 of Set 5 | cortes\n",
      "Processing Record 19 of Set 5 | talcahuano\n",
      "Processing Record 20 of Set 5 | bosaso\n",
      "Processing Record 21 of Set 5 | ekhabi\n",
      "Processing Record 22 of Set 5 | tautira\n",
      "Processing Record 23 of Set 5 | kuybysheve\n",
      "Processing Record 24 of Set 5 | mandalgovi\n",
      "City not found. Skipping to next available city.\n",
      "Processing Record 25 of Set 5 | cesky krumlov\n",
      "Processing Record 26 of Set 5 | punta alta\n",
      "Processing Record 27 of Set 5 | cape town\n",
      "Processing Record 28 of Set 5 | csaszartoltes\n",
      "Processing Record 29 of Set 5 | muborak\n",
      "Processing Record 30 of Set 5 | camacha\n",
      "City not found. Skipping to next available city.\n",
      "Processing Record 31 of Set 5 | maarianhamina\n",
      "Processing Record 32 of Set 5 | bayan\n",
      "Processing Record 33 of Set 5 | puerto suarez\n",
      "Processing Record 34 of Set 5 | imeni poliny osipenko\n",
      "Processing Record 35 of Set 5 | port-gentil\n",
      "Processing Record 36 of Set 5 | korla\n",
      "Processing Record 37 of Set 5 | velingara\n",
      "Processing Record 38 of Set 5 | okhotsk\n",
      "Processing Record 39 of Set 5 | san quintin\n",
      "City not found. Skipping to next available city.\n",
      "Processing Record 40 of Set 5 | hoyerswerda\n",
      "Processing Record 41 of Set 5 | okha\n",
      "City not found. Skipping to next available city.\n",
      "Processing Record 42 of Set 5 | chernyshevskiy\n",
      "Processing Record 43 of Set 5 | yaan\n",
      "Processing Record 44 of Set 5 | san carlos de bariloche\n",
      "Processing Record 45 of Set 5 | port blair\n",
      "Processing Record 46 of Set 5 | porto novo\n",
      "Processing Record 47 of Set 5 | tabou\n",
      "City not found. Skipping to next available city.\n",
      "Processing Record 48 of Set 5 | hutchinson\n",
      "Processing Record 49 of Set 5 | khatanga\n",
      "Processing Record 50 of Set 5 | nelson bay\n",
      "Processing Record 0 of Set 6 | ati\n",
      "Processing Record 1 of Set 6 | fairhope\n",
      "Processing Record 2 of Set 6 | ellenabad\n",
      "Processing Record 3 of Set 6 | charters towers\n",
      "Processing Record 4 of Set 6 | maceio\n",
      "Processing Record 5 of Set 6 | honiara\n",
      "Processing Record 6 of Set 6 | doha\n",
      "Processing Record 7 of Set 6 | fortuna\n",
      "Processing Record 8 of Set 6 | cherskiy\n",
      "Processing Record 9 of Set 6 | north shore\n",
      "Processing Record 10 of Set 6 | cape coast\n",
      "Processing Record 11 of Set 6 | parintins\n",
      "Processing Record 12 of Set 6 | saint george\n",
      "Processing Record 13 of Set 6 | te anau\n",
      "Processing Record 14 of Set 6 | makakilo city\n",
      "Processing Record 15 of Set 6 | recco\n",
      "Processing Record 16 of Set 6 | gusau\n",
      "Processing Record 17 of Set 6 | lichinga\n",
      "Processing Record 18 of Set 6 | zalantun\n",
      "Processing Record 19 of Set 6 | longyearbyen\n",
      "Processing Record 20 of Set 6 | ust-kan\n",
      "City not found. Skipping to next available city.\n",
      "Processing Record 21 of Set 6 | puerto palomas\n",
      "Processing Record 22 of Set 6 | minyar\n",
      "Processing Record 23 of Set 6 | alofi\n",
      "Processing Record 24 of Set 6 | vila franca do campo\n",
      "Processing Record 25 of Set 6 | wasilla\n",
      "Processing Record 26 of Set 6 | amapa\n",
      "Processing Record 27 of Set 6 | sabang\n",
      "Processing Record 28 of Set 6 | puerto escondido\n",
      "Processing Record 29 of Set 6 | malumfashi\n",
      "Processing Record 30 of Set 6 | san patricio\n",
      "Processing Record 31 of Set 6 | corpus christi\n",
      "Processing Record 32 of Set 6 | bathsheba\n",
      "Processing Record 33 of Set 6 | adrar\n",
      "Processing Record 34 of Set 6 | concepcion\n",
      "Processing Record 35 of Set 6 | vardo\n",
      "Processing Record 36 of Set 6 | batagay\n",
      "Processing Record 37 of Set 6 | ahuimanu\n",
      "Processing Record 38 of Set 6 | stromness\n",
      "Processing Record 39 of Set 6 | umm kaddadah\n",
      "Processing Record 40 of Set 6 | tuatapere\n",
      "Processing Record 41 of Set 6 | brae\n",
      "Processing Record 42 of Set 6 | atar\n",
      "Processing Record 43 of Set 6 | kahului\n",
      "Processing Record 44 of Set 6 | tuscaloosa\n",
      "Processing Record 45 of Set 6 | buala\n",
      "Processing Record 46 of Set 6 | luderitz\n",
      "Processing Record 47 of Set 6 | camalu\n",
      "Processing Record 48 of Set 6 | pacific grove\n",
      "City not found. Skipping to next available city.\n",
      "Processing Record 49 of Set 6 | leshukonskoye\n",
      "Processing Record 50 of Set 6 | road town\n",
      "Processing Record 0 of Set 7 | ahipara\n",
      "Processing Record 1 of Set 7 | touros\n",
      "Processing Record 2 of Set 7 | la ronge\n",
      "Processing Record 3 of Set 7 | saint-georges\n",
      "Processing Record 4 of Set 7 | zaysan\n",
      "Processing Record 5 of Set 7 | shetpe\n",
      "Processing Record 6 of Set 7 | gushikawa\n",
      "City not found. Skipping to next available city.\n",
      "Processing Record 7 of Set 7 | khandbari\n",
      "City not found. Skipping to next available city.\n",
      "Processing Record 8 of Set 7 | dalbandin\n",
      "Processing Record 9 of Set 7 | baie-comeau\n",
      "Processing Record 10 of Set 7 | kavaratti\n",
      "Processing Record 11 of Set 7 | alamosa\n",
      "Processing Record 12 of Set 7 | florida\n",
      "Processing Record 13 of Set 7 | angoche\n",
      "Processing Record 14 of Set 7 | mossendjo\n",
      "City not found. Skipping to next available city.\n",
      "Processing Record 15 of Set 7 | bud\n",
      "Processing Record 16 of Set 7 | hambantota\n",
      "Processing Record 17 of Set 7 | lorengau\n",
      "Processing Record 18 of Set 7 | gondar\n",
      "Processing Record 19 of Set 7 | manono\n",
      "Processing Record 20 of Set 7 | soligalich\n",
      "Processing Record 21 of Set 7 | westport\n",
      "Processing Record 22 of Set 7 | nyurba\n",
      "Processing Record 23 of Set 7 | berlevag\n",
      "Processing Record 24 of Set 7 | tarija\n",
      "Processing Record 25 of Set 7 | yarke pole\n",
      "Processing Record 26 of Set 7 | altay\n",
      "Processing Record 27 of Set 7 | ossora\n",
      "Processing Record 28 of Set 7 | faya\n",
      "Processing Record 29 of Set 7 | the valley\n",
      "Processing Record 30 of Set 7 | boden\n",
      "Processing Record 31 of Set 7 | develi\n",
      "Processing Record 32 of Set 7 | jiaojiang\n",
      "City not found. Skipping to next available city.\n",
      "Processing Record 33 of Set 7 | clyde river\n",
      "Processing Record 34 of Set 7 | meadow lake\n",
      "Processing Record 35 of Set 7 | sao miguel do araguaia\n",
      "Processing Record 36 of Set 7 | santa cruz\n",
      "Processing Record 37 of Set 7 | noumea\n",
      "Processing Record 38 of Set 7 | north platte\n",
      "Processing Record 39 of Set 7 | senanga\n",
      "Processing Record 40 of Set 7 | chingola\n",
      "Processing Record 41 of Set 7 | santa ana\n",
      "Processing Record 42 of Set 7 | cockburn town\n",
      "Processing Record 43 of Set 7 | kultuk\n",
      "Processing Record 44 of Set 7 | mogadishu\n",
      "Processing Record 45 of Set 7 | salo\n",
      "Processing Record 46 of Set 7 | brigantine\n",
      "Processing Record 47 of Set 7 | inuvik\n",
      "Processing Record 48 of Set 7 | placido de castro\n",
      "Processing Record 49 of Set 7 | kuusamo\n",
      "Processing Record 50 of Set 7 | hofn\n",
      "Processing Record 0 of Set 8 | bengkulu\n",
      "Processing Record 1 of Set 8 | hay river\n"
     ]
    },
    {
     "name": "stdout",
     "output_type": "stream",
     "text": [
      "Processing Record 2 of Set 8 | shingu\n",
      "Processing Record 3 of Set 8 | sao joao da barra\n",
      "Processing Record 4 of Set 8 | pasighat\n",
      "Processing Record 5 of Set 8 | pitimbu\n",
      "Processing Record 6 of Set 8 | hobyo\n",
      "Processing Record 7 of Set 8 | rancho palos verdes\n",
      "Processing Record 8 of Set 8 | moyale\n",
      "Processing Record 9 of Set 8 | hualmay\n",
      "Processing Record 10 of Set 8 | zabaykalsk\n",
      "Processing Record 11 of Set 8 | luba\n",
      "Processing Record 12 of Set 8 | ulladulla\n",
      "Processing Record 13 of Set 8 | saskylakh\n",
      "Processing Record 14 of Set 8 | abu samrah\n",
      "Processing Record 15 of Set 8 | maraba\n",
      "City not found. Skipping to next available city.\n",
      "Processing Record 16 of Set 8 | rongcheng\n",
      "Processing Record 17 of Set 8 | viedma\n",
      "City not found. Skipping to next available city.\n",
      "Processing Record 18 of Set 8 | el alto\n",
      "Processing Record 19 of Set 8 | yerbogachen\n",
      "Processing Record 20 of Set 8 | atambua\n",
      "Processing Record 21 of Set 8 | mukhen\n",
      "Processing Record 22 of Set 8 | muroto\n",
      "Processing Record 23 of Set 8 | vikhorevka\n",
      "Processing Record 24 of Set 8 | ginda\n",
      "Processing Record 25 of Set 8 | moen\n",
      "Processing Record 26 of Set 8 | oistins\n",
      "Processing Record 27 of Set 8 | bonavista\n",
      "Processing Record 28 of Set 8 | geraldton\n",
      "Processing Record 29 of Set 8 | qinhuangdao\n",
      "Processing Record 30 of Set 8 | totma\n",
      "Processing Record 31 of Set 8 | dunedin\n",
      "Processing Record 32 of Set 8 | manjacaze\n",
      "Processing Record 33 of Set 8 | raudeberg\n",
      "Processing Record 34 of Set 8 | singaraja\n",
      "Processing Record 35 of Set 8 | qeshm\n",
      "Processing Record 36 of Set 8 | matay\n",
      "Processing Record 37 of Set 8 | tamale\n",
      "Processing Record 38 of Set 8 | sao gabriel da cachoeira\n",
      "Processing Record 39 of Set 8 | henties bay\n",
      "Processing Record 40 of Set 8 | sept-iles\n",
      "Processing Record 41 of Set 8 | neuquen\n",
      "Processing Record 42 of Set 8 | lebu\n",
      "Processing Record 43 of Set 8 | tezu\n",
      "Processing Record 44 of Set 8 | tessalit\n",
      "Processing Record 45 of Set 8 | vanimo\n",
      "Processing Record 46 of Set 8 | grand haven\n",
      "Processing Record 47 of Set 8 | salekhard\n",
      "Processing Record 48 of Set 8 | berbera\n",
      "Processing Record 49 of Set 8 | bezerros\n",
      "City not found. Skipping to next available city.\n",
      "Processing Record 50 of Set 8 | zaragoza\n",
      "Processing Record 0 of Set 9 | payo\n",
      "City not found. Skipping to next available city.\n",
      "Processing Record 1 of Set 9 | nouadhibou\n",
      "Processing Record 2 of Set 9 | manturovo\n",
      "Processing Record 3 of Set 9 | dicabisagan\n",
      "Processing Record 4 of Set 9 | gurjaani\n",
      "Processing Record 5 of Set 9 | krasnyy oktyabr\n",
      "Processing Record 6 of Set 9 | metro\n",
      "Processing Record 7 of Set 9 | ambilobe\n",
      "Processing Record 8 of Set 9 | garowe\n",
      "Processing Record 9 of Set 9 | lodja\n",
      "Processing Record 10 of Set 9 | kholodnyy\n",
      "Processing Record 11 of Set 9 | shalinskoye\n",
      "Processing Record 12 of Set 9 | celestun\n",
      "City not found. Skipping to next available city.\n",
      "Processing Record 13 of Set 9 | vulcan\n",
      "Processing Record 14 of Set 9 | batagay-alyta\n",
      "Processing Record 15 of Set 9 | ambon\n",
      "Processing Record 16 of Set 9 | kroya\n",
      "Processing Record 17 of Set 9 | moerai\n",
      "Processing Record 18 of Set 9 | tupik\n",
      "Processing Record 19 of Set 9 | lokosovo\n",
      "Processing Record 20 of Set 9 | panormos\n",
      "Processing Record 21 of Set 9 | vao\n",
      "Processing Record 22 of Set 9 | rocha\n",
      "Processing Record 23 of Set 9 | nanortalik\n",
      "City not found. Skipping to next available city.\n",
      "Processing Record 24 of Set 9 | onega\n",
      "City not found. Skipping to next available city.\n",
      "Processing Record 25 of Set 9 | melton\n",
      "Processing Record 26 of Set 9 | krasnoselkup\n",
      "Processing Record 27 of Set 9 | daoukro\n",
      "Processing Record 28 of Set 9 | abnub\n",
      "City not found. Skipping to next available city.\n",
      "Processing Record 29 of Set 9 | kirakira\n",
      "Processing Record 30 of Set 9 | aitape\n",
      "Processing Record 31 of Set 9 | la asuncion\n",
      "Processing Record 32 of Set 9 | naumburg\n",
      "Processing Record 33 of Set 9 | beloha\n",
      "City not found. Skipping to next available city.\n",
      "Processing Record 34 of Set 9 | muros\n",
      "Processing Record 35 of Set 9 | guilin\n",
      "Processing Record 36 of Set 9 | los llanos de aridane\n",
      "Processing Record 37 of Set 9 | guanay\n",
      "Processing Record 38 of Set 9 | beira\n",
      "Processing Record 39 of Set 9 | nanakuli\n",
      "Processing Record 40 of Set 9 | letlhakeng\n",
      "Processing Record 41 of Set 9 | opuwo\n",
      "Processing Record 42 of Set 9 | kutum\n",
      "Processing Record 43 of Set 9 | alexandria\n",
      "Processing Record 44 of Set 9 | arman\n",
      "Processing Record 45 of Set 9 | manta\n",
      "Processing Record 46 of Set 9 | mapimi\n",
      "Processing Record 47 of Set 9 | vetovo\n",
      "Processing Record 48 of Set 9 | moron\n",
      "Processing Record 49 of Set 9 | iroquois falls\n",
      "Processing Record 50 of Set 9 | vanavara\n",
      "Processing Record 0 of Set 10 | east millcreek\n",
      "Processing Record 1 of Set 10 | dublin\n",
      "City not found. Skipping to next available city.\n",
      "Processing Record 2 of Set 10 | bentiu\n",
      "Processing Record 3 of Set 10 | grindavik\n",
      "Processing Record 4 of Set 10 | dmitriyevskoye\n",
      "Processing Record 5 of Set 10 | lagoa\n",
      "Processing Record 6 of Set 10 | lugovoy\n",
      "Processing Record 7 of Set 10 | icod de los vinos\n",
      "Processing Record 8 of Set 10 | filadelfia\n",
      "Processing Record 9 of Set 10 | waycross\n",
      "City not found. Skipping to next available city.\n",
      "Processing Record 10 of Set 10 | revelstoke\n",
      "Processing Record 11 of Set 10 | sunbury\n",
      "Processing Record 12 of Set 10 | fort smith\n",
      "Processing Record 13 of Set 10 | la rosa\n",
      "Processing Record 14 of Set 10 | nuuk\n",
      "Processing Record 15 of Set 10 | ngama\n",
      "Processing Record 16 of Set 10 | ajaccio\n",
      "Processing Record 17 of Set 10 | fukue\n",
      "Processing Record 18 of Set 10 | guacui\n",
      "Processing Record 19 of Set 10 | mikkeli\n",
      "Processing Record 20 of Set 10 | ola\n",
      "Processing Record 21 of Set 10 | banda aceh\n",
      "Processing Record 22 of Set 10 | lisala\n",
      "Processing Record 23 of Set 10 | zenzeli\n",
      "Processing Record 24 of Set 10 | silver city\n",
      "City not found. Skipping to next available city.\n",
      "Processing Record 25 of Set 10 | stranda\n",
      "Processing Record 26 of Set 10 | lusambo\n",
      "Processing Record 27 of Set 10 | onguday\n",
      "Processing Record 28 of Set 10 | tommot\n",
      "Processing Record 29 of Set 10 | cayenne\n",
      "Processing Record 30 of Set 10 | beyneu\n",
      "Processing Record 31 of Set 10 | petrivka\n",
      "Processing Record 32 of Set 10 | buchanan\n",
      "City not found. Skipping to next available city.\n",
      "Processing Record 33 of Set 10 | tokur\n",
      "Processing Record 34 of Set 10 | chenzhou\n",
      "Processing Record 35 of Set 10 | muravlenko\n",
      "Processing Record 36 of Set 10 | namibe\n",
      "Processing Record 37 of Set 10 | kongsberg\n",
      "Processing Record 38 of Set 10 | havoysund\n",
      "Processing Record 39 of Set 10 | warri\n",
      "Processing Record 40 of Set 10 | svetlogorsk\n",
      "Processing Record 41 of Set 10 | nedryhayliv\n",
      "Processing Record 42 of Set 10 | sapele\n",
      "Processing Record 43 of Set 10 | verkhnyachka\n",
      "Processing Record 44 of Set 10 | gemlik\n",
      "Processing Record 45 of Set 10 | ilhabela\n",
      "City not found. Skipping to next available city.\n",
      "Processing Record 46 of Set 10 | perelyub\n",
      "Processing Record 47 of Set 10 | sao domingos\n",
      "Processing Record 48 of Set 10 | turmalina\n",
      "Processing Record 49 of Set 10 | iskateley\n",
      "Processing Record 50 of Set 10 | port lincoln\n",
      "City not found. Skipping to next available city.\n",
      "Processing Record 0 of Set 11 | coripata\n",
      "Processing Record 1 of Set 11 | morant bay\n",
      "Processing Record 2 of Set 11 | yambio\n",
      "Processing Record 3 of Set 11 | planaltina\n",
      "Processing Record 4 of Set 11 | verkhoyansk\n",
      "Processing Record 5 of Set 11 | port hardy\n",
      "Processing Record 6 of Set 11 | college\n",
      "Processing Record 7 of Set 11 | petropavl\n",
      "City not found. Skipping to next available city.\n",
      "City not found. Skipping to next available city.\n",
      "Processing Record 8 of Set 11 | thiruvananthapuram\n",
      "Processing Record 9 of Set 11 | nguruka\n",
      "Processing Record 10 of Set 11 | kupang\n",
      "Processing Record 11 of Set 11 | almaty\n",
      "Processing Record 12 of Set 11 | raymond\n",
      "Processing Record 13 of Set 11 | taiyuan\n",
      "Processing Record 14 of Set 11 | waingapu\n",
      "Processing Record 15 of Set 11 | sitka\n",
      "City not found. Skipping to next available city.\n",
      "Processing Record 16 of Set 11 | chapais\n",
      "Processing Record 17 of Set 11 | sorland\n",
      "Processing Record 18 of Set 11 | kashi\n",
      "Processing Record 19 of Set 11 | kudahuvadhoo\n",
      "Processing Record 20 of Set 11 | rock sound\n",
      "Processing Record 21 of Set 11 | bodden town\n",
      "City not found. Skipping to next available city.\n",
      "Processing Record 22 of Set 11 | inhambane\n",
      "Processing Record 23 of Set 11 | centralia\n",
      "Processing Record 24 of Set 11 | novobirilyussy\n"
     ]
    },
    {
     "name": "stdout",
     "output_type": "stream",
     "text": [
      "Processing Record 25 of Set 11 | nhulunbuy\n",
      "Processing Record 26 of Set 11 | peniche\n",
      "Processing Record 27 of Set 11 | ogaminana\n",
      "Processing Record 28 of Set 11 | pauini\n",
      "Processing Record 29 of Set 11 | husavik\n",
      "Processing Record 30 of Set 11 | vila velha\n",
      "Processing Record 31 of Set 11 | sarh\n",
      "Processing Record 32 of Set 11 | ust-maya\n",
      "Processing Record 33 of Set 11 | coffs harbour\n",
      "Processing Record 34 of Set 11 | aranos\n",
      "City not found. Skipping to next available city.\n",
      "Processing Record 35 of Set 11 | gorontalo\n",
      "City not found. Skipping to next available city.\n",
      "Processing Record 36 of Set 11 | oskemen\n",
      "Processing Record 37 of Set 11 | kulhudhuffushi\n",
      "Processing Record 38 of Set 11 | oliveira dos brejinhos\n",
      "Processing Record 39 of Set 11 | sinnamary\n",
      "Processing Record 40 of Set 11 | culfa\n",
      "City not found. Skipping to next available city.\n",
      "Processing Record 41 of Set 11 | tottori\n",
      "Processing Record 42 of Set 11 | najran\n",
      "Processing Record 43 of Set 11 | panaba\n",
      "Processing Record 44 of Set 11 | kodinsk\n",
      "Processing Record 45 of Set 11 | bairiki\n",
      "Processing Record 46 of Set 11 | mount gambier\n",
      "Processing Record 47 of Set 11 | cao bang\n",
      "Processing Record 48 of Set 11 | aykhal\n",
      "Processing Record 49 of Set 11 | mudhol\n",
      "Processing Record 50 of Set 11 | puerto quijarro\n",
      "Processing Record 0 of Set 12 | bada\n",
      "Processing Record 1 of Set 12 | jumla\n",
      "Processing Record 2 of Set 12 | parrita\n",
      "Processing Record 3 of Set 12 | hamadan\n",
      "Processing Record 4 of Set 12 | tazovskiy\n",
      "Processing Record 5 of Set 12 | casambalangan\n",
      "Processing Record 6 of Set 12 | ballina\n",
      "Processing Record 7 of Set 12 | hovd\n",
      "City not found. Skipping to next available city.\n",
      "Processing Record 8 of Set 12 | isla vista\n",
      "Processing Record 9 of Set 12 | mizdah\n",
      "Processing Record 10 of Set 12 | taga\n",
      "Processing Record 11 of Set 12 | novikovo\n",
      "Processing Record 12 of Set 12 | benidorm\n",
      "Processing Record 13 of Set 12 | pandan\n",
      "Processing Record 14 of Set 12 | puerto del rosario\n",
      "Processing Record 15 of Set 12 | fort nelson\n",
      "Processing Record 16 of Set 12 | bafoulabe\n",
      "Processing Record 17 of Set 12 | mizan teferi\n",
      "Processing Record 18 of Set 12 | rio cuarto\n",
      "Processing Record 19 of Set 12 | suntar\n",
      "Processing Record 20 of Set 12 | belaya gora\n",
      "Processing Record 21 of Set 12 | upington\n",
      "Processing Record 22 of Set 12 | mae sai\n",
      "Processing Record 23 of Set 12 | buraydah\n",
      "Processing Record 24 of Set 12 | selcuk\n",
      "Processing Record 25 of Set 12 | kyzyl-suu\n",
      "City not found. Skipping to next available city.\n",
      "Processing Record 26 of Set 12 | richards bay\n",
      "Processing Record 27 of Set 12 | bogalusa\n",
      "Processing Record 28 of Set 12 | davila\n",
      "Processing Record 29 of Set 12 | walvis bay\n",
      "City not found. Skipping to next available city.\n",
      "Processing Record 30 of Set 12 | yar-sale\n",
      "City not found. Skipping to next available city.\n",
      "Processing Record 31 of Set 12 | dandong\n",
      "City not found. Skipping to next available city.\n",
      "Processing Record 32 of Set 12 | pag\n",
      "Processing Record 33 of Set 12 | vilhena\n",
      "Processing Record 34 of Set 12 | aksarka\n",
      "Processing Record 35 of Set 12 | necochea\n",
      "Processing Record 36 of Set 12 | nizwa\n",
      "Processing Record 37 of Set 12 | benjamin aceval\n",
      "Processing Record 38 of Set 12 | khorramabad\n",
      "Processing Record 39 of Set 12 | ternate\n",
      "Processing Record 40 of Set 12 | magadan\n",
      "City not found. Skipping to next available city.\n",
      "Processing Record 41 of Set 12 | parakou\n",
      "Processing Record 42 of Set 12 | slavonice\n",
      "Processing Record 43 of Set 12 | fereydun kenar\n",
      "Processing Record 44 of Set 12 | blagoveshchenka\n",
      "Processing Record 45 of Set 12 | santa lucia\n",
      "Processing Record 46 of Set 12 | villa bruzual\n",
      "Processing Record 47 of Set 12 | formosa\n",
      "Processing Record 48 of Set 12 | glendive\n",
      "Processing Record 49 of Set 12 | usinsk\n",
      "Processing Record 50 of Set 12 | coracora\n",
      "Processing Record 0 of Set 13 | houma\n",
      "Processing Record 1 of Set 13 | bereda\n",
      "Processing Record 2 of Set 13 | pak phanang\n",
      "Processing Record 3 of Set 13 | ust-kut\n",
      "Processing Record 4 of Set 13 | moyobamba\n",
      "Processing Record 5 of Set 13 | bam\n",
      "City not found. Skipping to next available city.\n",
      "Processing Record 6 of Set 13 | saint-pierre\n",
      "Processing Record 7 of Set 13 | sambava\n",
      "Processing Record 8 of Set 13 | belfast\n",
      "Processing Record 9 of Set 13 | kalianget\n",
      "Processing Record 10 of Set 13 | changji\n",
      "Processing Record 11 of Set 13 | las choapas\n",
      "Processing Record 12 of Set 13 | jablanica\n",
      "Processing Record 13 of Set 13 | sola\n",
      "City not found. Skipping to next available city.\n",
      "Processing Record 14 of Set 13 | nynashamn\n",
      "Processing Record 15 of Set 13 | beringovskiy\n",
      "Processing Record 16 of Set 13 | nabire\n",
      "Processing Record 17 of Set 13 | mantua\n",
      "Processing Record 18 of Set 13 | pryazha\n",
      "Processing Record 19 of Set 13 | vokhtoga\n",
      "Processing Record 20 of Set 13 | panguna\n",
      "City not found. Skipping to next available city.\n",
      "Processing Record 21 of Set 13 | constitucion\n",
      "Processing Record 22 of Set 13 | eureka\n",
      "Processing Record 23 of Set 13 | les cayes\n",
      "City not found. Skipping to next available city.\n",
      "Processing Record 24 of Set 13 | ranong\n",
      "Processing Record 25 of Set 13 | birin\n",
      "Processing Record 26 of Set 13 | jawhar\n",
      "Processing Record 27 of Set 13 | gat\n",
      "Processing Record 28 of Set 13 | bahia blanca\n",
      "Processing Record 29 of Set 13 | eenhana\n",
      "Processing Record 30 of Set 13 | klyuchi\n",
      "Processing Record 31 of Set 13 | rybnaya sloboda\n",
      "Processing Record 32 of Set 13 | mlada vozice\n",
      "Processing Record 33 of Set 13 | muisne\n",
      "Processing Record 34 of Set 13 | broome\n",
      "Processing Record 35 of Set 13 | dong xoai\n",
      "Processing Record 36 of Set 13 | poum\n",
      "Processing Record 37 of Set 13 | warren\n",
      "Processing Record 38 of Set 13 | marang\n",
      "Processing Record 39 of Set 13 | fallon\n",
      "Processing Record 40 of Set 13 | yumen\n",
      "City not found. Skipping to next available city.\n",
      "Processing Record 41 of Set 13 | victoria\n",
      "Processing Record 42 of Set 13 | acajutla\n",
      "Processing Record 43 of Set 13 | sukhobezvodnoye\n",
      "Processing Record 44 of Set 13 | thakurdwara\n",
      "Processing Record 45 of Set 13 | victoria point\n",
      "Processing Record 46 of Set 13 | plettenberg bay\n",
      "Processing Record 47 of Set 13 | liverpool\n",
      "-----------------------------\n",
      "Data Retrieval Complete\n",
      "-----------------------------\n"
     ]
    }
   ],
   "source": [
    "# set up base url\n",
    "url = \"http://api.openweathermap.org/data/2.5/weather?units=imperial&appid=\" + weather_api_key\n",
    "#units = \"imperial\"\n",
    "\n",
    "# set counters for data looping\n",
    "record = 0\n",
    "sets = 1\n",
    "\n",
    "# create empty lists to hold data\n",
    "city_list = []\n",
    "lat_list = []\n",
    "lng_list = []\n",
    "maxtemp_list = []\n",
    "humidity_list = []\n",
    "cloudiness_list = []\n",
    "windspeed_list = []\n",
    "country_list = []\n",
    "date_list = []\n",
    "\n",
    "print(\"Beginning Data Retrieval\")\n",
    "print(\"-----------------------------\")\n",
    "\n",
    "# gather weather data for cities\n",
    "for index, city in enumerate(cities):\n",
    "    \n",
    "    # set query url to generate json response for cities\n",
    "    query_url = url + \"&q=\" + city\n",
    "    response = requests.get(query_url).json()\n",
    "    \n",
    "    try:\n",
    "        city_list.append(response[\"name\"])\n",
    "        lat_list.append(response[\"coord\"][\"lat\"])\n",
    "        lng_list.append(response[\"coord\"][\"lon\"])\n",
    "        maxtemp_list.append(response[\"main\"][\"temp_max\"])\n",
    "        humidity_list.append(response[\"main\"][\"humidity\"])\n",
    "        cloudiness_list.append(response[\"clouds\"][\"all\"])\n",
    "        windspeed_list.append(response[\"wind\"][\"speed\"])\n",
    "        country_list.append(response[\"sys\"][\"country\"])\n",
    "        date_list.append(response[\"dt\"])\n",
    "        \n",
    "        # new set when record hits 50\n",
    "        if record == 50:\n",
    "            record = 0\n",
    "            sets = sets + 1\n",
    "        \n",
    "        # append record counter\n",
    "        else:\n",
    "            record = record + 1\n",
    "        \n",
    "        # print out data\n",
    "        print(f\"Processing Record {record} of Set {sets} | {city}\")\n",
    "        \n",
    "    except:\n",
    "        print(\"City not found. Skipping to next available city.\")\n",
    "\n",
    "print(\"-----------------------------\")\n",
    "print(\"Data Retrieval Complete\")\n",
    "print(\"-----------------------------\")"
   ]
  },
  {
   "cell_type": "markdown",
   "metadata": {},
   "source": [
    "### Convert Raw Data to DataFrame\n",
    "* Export the city data into a .csv.\n",
    "* Display the DataFrame"
   ]
  },
  {
   "cell_type": "code",
   "execution_count": 36,
   "metadata": {},
   "outputs": [
    {
     "data": {
      "text/html": [
       "<div>\n",
       "<style scoped>\n",
       "    .dataframe tbody tr th:only-of-type {\n",
       "        vertical-align: middle;\n",
       "    }\n",
       "\n",
       "    .dataframe tbody tr th {\n",
       "        vertical-align: top;\n",
       "    }\n",
       "\n",
       "    .dataframe thead th {\n",
       "        text-align: right;\n",
       "    }\n",
       "</style>\n",
       "<table border=\"1\" class=\"dataframe\">\n",
       "  <thead>\n",
       "    <tr style=\"text-align: right;\">\n",
       "      <th></th>\n",
       "      <th>City</th>\n",
       "      <th>Lat</th>\n",
       "      <th>Lng</th>\n",
       "      <th>Max Temp</th>\n",
       "      <th>Humidity</th>\n",
       "      <th>Cloudiness</th>\n",
       "      <th>Wind Speed</th>\n",
       "      <th>Country</th>\n",
       "      <th>Date</th>\n",
       "    </tr>\n",
       "  </thead>\n",
       "  <tbody>\n",
       "    <tr>\n",
       "      <th>0</th>\n",
       "      <td>Esperance</td>\n",
       "      <td>-33.87</td>\n",
       "      <td>121.90</td>\n",
       "      <td>55.40</td>\n",
       "      <td>87</td>\n",
       "      <td>90</td>\n",
       "      <td>3.36</td>\n",
       "      <td>AU</td>\n",
       "      <td>1609705288</td>\n",
       "    </tr>\n",
       "    <tr>\n",
       "      <th>1</th>\n",
       "      <td>Nikolskoye</td>\n",
       "      <td>59.70</td>\n",
       "      <td>30.79</td>\n",
       "      <td>28.40</td>\n",
       "      <td>86</td>\n",
       "      <td>75</td>\n",
       "      <td>2.24</td>\n",
       "      <td>RU</td>\n",
       "      <td>1609705505</td>\n",
       "    </tr>\n",
       "    <tr>\n",
       "      <th>2</th>\n",
       "      <td>Ushuaia</td>\n",
       "      <td>-54.80</td>\n",
       "      <td>-68.30</td>\n",
       "      <td>51.80</td>\n",
       "      <td>50</td>\n",
       "      <td>75</td>\n",
       "      <td>12.75</td>\n",
       "      <td>AR</td>\n",
       "      <td>1609705328</td>\n",
       "    </tr>\n",
       "    <tr>\n",
       "      <th>3</th>\n",
       "      <td>Evensk</td>\n",
       "      <td>61.95</td>\n",
       "      <td>159.23</td>\n",
       "      <td>1.31</td>\n",
       "      <td>87</td>\n",
       "      <td>100</td>\n",
       "      <td>13.22</td>\n",
       "      <td>RU</td>\n",
       "      <td>1609705506</td>\n",
       "    </tr>\n",
       "    <tr>\n",
       "      <th>4</th>\n",
       "      <td>Paamiut</td>\n",
       "      <td>61.99</td>\n",
       "      <td>-49.67</td>\n",
       "      <td>26.35</td>\n",
       "      <td>91</td>\n",
       "      <td>100</td>\n",
       "      <td>13.24</td>\n",
       "      <td>GL</td>\n",
       "      <td>1609705410</td>\n",
       "    </tr>\n",
       "  </tbody>\n",
       "</table>\n",
       "</div>"
      ],
      "text/plain": [
       "         City    Lat     Lng  Max Temp  Humidity  Cloudiness  Wind Speed  \\\n",
       "0   Esperance -33.87  121.90     55.40        87          90        3.36   \n",
       "1  Nikolskoye  59.70   30.79     28.40        86          75        2.24   \n",
       "2     Ushuaia -54.80  -68.30     51.80        50          75       12.75   \n",
       "3      Evensk  61.95  159.23      1.31        87         100       13.22   \n",
       "4     Paamiut  61.99  -49.67     26.35        91         100       13.24   \n",
       "\n",
       "  Country        Date  \n",
       "0      AU  1609705288  \n",
       "1      RU  1609705505  \n",
       "2      AR  1609705328  \n",
       "3      RU  1609705506  \n",
       "4      GL  1609705410  "
      ]
     },
     "execution_count": 36,
     "metadata": {},
     "output_type": "execute_result"
    }
   ],
   "source": [
    "# convert to dataframe and set column names\n",
    "df = pd.DataFrame({\n",
    "    \"City\": city_list,\n",
    "    \"Lat\": lat_list,\n",
    "    \"Lng\": lng_list,\n",
    "    \"Max Temp\": maxtemp_list,\n",
    "    \"Humidity\": humidity_list,\n",
    "    \"Cloudiness\": cloudiness_list,\n",
    "    \"Wind Speed\": windspeed_list,\n",
    "    \"Country\": country_list,\n",
    "    \"Date\": date_list\n",
    "})\n",
    "\n",
    "# send to csv file in output_data directory\n",
    "df.to_csv(\"output_data/city_weather.csv\", index=False)\n",
    "\n",
    "# show header rows\n",
    "df.head()"
   ]
  },
  {
   "cell_type": "code",
   "execution_count": 37,
   "metadata": {},
   "outputs": [
    {
     "data": {
      "text/html": [
       "<div>\n",
       "<style scoped>\n",
       "    .dataframe tbody tr th:only-of-type {\n",
       "        vertical-align: middle;\n",
       "    }\n",
       "\n",
       "    .dataframe tbody tr th {\n",
       "        vertical-align: top;\n",
       "    }\n",
       "\n",
       "    .dataframe thead th {\n",
       "        text-align: right;\n",
       "    }\n",
       "</style>\n",
       "<table border=\"1\" class=\"dataframe\">\n",
       "  <thead>\n",
       "    <tr style=\"text-align: right;\">\n",
       "      <th></th>\n",
       "      <th>Lat</th>\n",
       "      <th>Lng</th>\n",
       "      <th>Max Temp</th>\n",
       "      <th>Humidity</th>\n",
       "      <th>Cloudiness</th>\n",
       "      <th>Wind Speed</th>\n",
       "      <th>Date</th>\n",
       "    </tr>\n",
       "  </thead>\n",
       "  <tbody>\n",
       "    <tr>\n",
       "      <th>count</th>\n",
       "      <td>659.000000</td>\n",
       "      <td>659.000000</td>\n",
       "      <td>659.000000</td>\n",
       "      <td>659.000000</td>\n",
       "      <td>659.000000</td>\n",
       "      <td>659.000000</td>\n",
       "      <td>6.590000e+02</td>\n",
       "    </tr>\n",
       "    <tr>\n",
       "      <th>mean</th>\n",
       "      <td>21.819742</td>\n",
       "      <td>19.782671</td>\n",
       "      <td>48.577041</td>\n",
       "      <td>74.758725</td>\n",
       "      <td>55.825493</td>\n",
       "      <td>8.132944</td>\n",
       "      <td>1.609706e+09</td>\n",
       "    </tr>\n",
       "    <tr>\n",
       "      <th>std</th>\n",
       "      <td>33.227442</td>\n",
       "      <td>89.066533</td>\n",
       "      <td>33.915721</td>\n",
       "      <td>18.909665</td>\n",
       "      <td>39.643681</td>\n",
       "      <td>5.876176</td>\n",
       "      <td>8.375055e+01</td>\n",
       "    </tr>\n",
       "    <tr>\n",
       "      <th>min</th>\n",
       "      <td>-54.800000</td>\n",
       "      <td>-179.170000</td>\n",
       "      <td>-47.180000</td>\n",
       "      <td>16.000000</td>\n",
       "      <td>0.000000</td>\n",
       "      <td>0.110000</td>\n",
       "      <td>1.609705e+09</td>\n",
       "    </tr>\n",
       "    <tr>\n",
       "      <th>25%</th>\n",
       "      <td>-5.155000</td>\n",
       "      <td>-59.130000</td>\n",
       "      <td>30.200000</td>\n",
       "      <td>65.000000</td>\n",
       "      <td>16.000000</td>\n",
       "      <td>4.000000</td>\n",
       "      <td>1.609706e+09</td>\n",
       "    </tr>\n",
       "    <tr>\n",
       "      <th>50%</th>\n",
       "      <td>27.910000</td>\n",
       "      <td>23.780000</td>\n",
       "      <td>59.000000</td>\n",
       "      <td>80.000000</td>\n",
       "      <td>74.000000</td>\n",
       "      <td>6.930000</td>\n",
       "      <td>1.609706e+09</td>\n",
       "    </tr>\n",
       "    <tr>\n",
       "      <th>75%</th>\n",
       "      <td>50.080000</td>\n",
       "      <td>98.415000</td>\n",
       "      <td>76.730000</td>\n",
       "      <td>88.000000</td>\n",
       "      <td>97.000000</td>\n",
       "      <td>11.410000</td>\n",
       "      <td>1.609706e+09</td>\n",
       "    </tr>\n",
       "    <tr>\n",
       "      <th>max</th>\n",
       "      <td>78.220000</td>\n",
       "      <td>179.320000</td>\n",
       "      <td>101.770000</td>\n",
       "      <td>100.000000</td>\n",
       "      <td>100.000000</td>\n",
       "      <td>38.030000</td>\n",
       "      <td>1.609706e+09</td>\n",
       "    </tr>\n",
       "  </tbody>\n",
       "</table>\n",
       "</div>"
      ],
      "text/plain": [
       "              Lat         Lng    Max Temp    Humidity  Cloudiness  Wind Speed  \\\n",
       "count  659.000000  659.000000  659.000000  659.000000  659.000000  659.000000   \n",
       "mean    21.819742   19.782671   48.577041   74.758725   55.825493    8.132944   \n",
       "std     33.227442   89.066533   33.915721   18.909665   39.643681    5.876176   \n",
       "min    -54.800000 -179.170000  -47.180000   16.000000    0.000000    0.110000   \n",
       "25%     -5.155000  -59.130000   30.200000   65.000000   16.000000    4.000000   \n",
       "50%     27.910000   23.780000   59.000000   80.000000   74.000000    6.930000   \n",
       "75%     50.080000   98.415000   76.730000   88.000000   97.000000   11.410000   \n",
       "max     78.220000  179.320000  101.770000  100.000000  100.000000   38.030000   \n",
       "\n",
       "               Date  \n",
       "count  6.590000e+02  \n",
       "mean   1.609706e+09  \n",
       "std    8.375055e+01  \n",
       "min    1.609705e+09  \n",
       "25%    1.609706e+09  \n",
       "50%    1.609706e+09  \n",
       "75%    1.609706e+09  \n",
       "max    1.609706e+09  "
      ]
     },
     "execution_count": 37,
     "metadata": {},
     "output_type": "execute_result"
    }
   ],
   "source": [
    "# get statistical description of the data\n",
    "df.describe()"
   ]
  },
  {
   "cell_type": "markdown",
   "metadata": {},
   "source": [
    "## Plotting the Data\n",
    "* Use proper labeling of the plots using plot titles (including date of analysis) and axes labels.\n",
    "* Save the plotted figures as .pngs."
   ]
  },
  {
   "cell_type": "markdown",
   "metadata": {},
   "source": [
    "## Latitude vs. Temperature Plot"
   ]
  },
  {
   "cell_type": "code",
   "execution_count": 46,
   "metadata": {
    "scrolled": true
   },
   "outputs": [
    {
     "data": {
      "image/png": "[encoded data removed]",
      "text/plain": [
       "<Figure size 432x288 with 1 Axes>"
      ]
     },
     "metadata": {
      "needs_background": "light"
     },
     "output_type": "display_data"
    }
   ],
   "source": [
    "# create scatter plot for lat vs. max temp\n",
    "plt.scatter(df[\"Lat\"], df[\"Max Temp\"], facecolor=\"aqua\", edgecolor=\"b\")\n",
    "\n",
    "# title, axes, and gridlines\n",
    "plt.title(\"City Latitude vs. Max Temp (03/03/21)\")\n",
    "plt.xlabel(\"Latitude\")\n",
    "plt.ylabel(\"Max Temperature (F)\")\n",
    "plt.grid(alpha=0.25)\n",
    "\n",
    "# save png\n",
    "plt.savefig(\"output_data/lat_vs_temp_plot.png\")"
   ]
  },
  {
   "cell_type": "markdown",
   "metadata": {},
   "source": [
    "This plot suggests that temperatures gradually drop the farther people move from the equator. Cities above the equator (from 0 to 90 degress latitude) have smaller max temps compared to cities below the equator the closer they get to the North Pole. "
   ]
  },
  {
   "cell_type": "markdown",
   "metadata": {},
   "source": [
    "## Latitude vs. Humidity Plot"
   ]
  },
  {
   "cell_type": "code",
   "execution_count": 47,
   "metadata": {},
   "outputs": [
    {
     "data": {
      "image/png": "[encoded data removed]",
      "text/plain": [
       "<Figure size 432x288 with 1 Axes>"
      ]
     },
     "metadata": {
      "needs_background": "light"
     },
     "output_type": "display_data"
    }
   ],
   "source": [
    "# create scatter plot for lat vs. max temp\n",
    "plt.scatter(df[\"Lat\"], df[\"Humidity\"], facecolor=\"aqua\", edgecolor=\"b\")\n",
    "\n",
    "# title, axes, and gridlines\n",
    "plt.title(\"City Latitude vs. Humidity (03/03/21)\")\n",
    "plt.xlabel(\"Latitude\")\n",
    "plt.ylabel(\"Humidity (%)\")\n",
    "plt.grid(alpha=0.25)\n",
    "\n",
    "# save png\n",
    "plt.savefig(\"output_data/lat_vs_humidity_plot.png\")"
   ]
  },
  {
   "cell_type": "markdown",
   "metadata": {},
   "source": [
    "This plot does not clearly suggest any significant relationship between a city's latitude and humidity."
   ]
  },
  {
   "cell_type": "markdown",
   "metadata": {},
   "source": [
    "## Latitude vs. Cloudiness Plot"
   ]
  },
  {
   "cell_type": "code",
   "execution_count": 50,
   "metadata": {
    "scrolled": true
   },
   "outputs": [
    {
     "data": {
      "image/png": "[encoded data removed]",
      "text/plain": [
       "<Figure size 432x288 with 1 Axes>"
      ]
     },
     "metadata": {
      "needs_background": "light"
     },
     "output_type": "display_data"
    }
   ],
   "source": [
    "# create scatter plot for lat vs. max temp\n",
    "plt.scatter(df[\"Lat\"], df[\"Cloudiness\"], facecolor=\"aqua\", edgecolor=\"b\")\n",
    "\n",
    "# title, axes, and gridlines\n",
    "plt.title(\"City Latitude vs. Cloudiness (03/03/21)\")\n",
    "plt.xlabel(\"Latitude\")\n",
    "plt.ylabel(\"Cloudiness (%)\")\n",
    "plt.grid(alpha=0.25)\n",
    "\n",
    "# save png\n",
    "plt.savefig(\"output_data/lat_vs_cloudiness_plot.png\")"
   ]
  },
  {
   "cell_type": "markdown",
   "metadata": {},
   "source": [
    "This plot does not clearly suggest any significant relationship between a city's latitude and cloudiness."
   ]
  },
  {
   "cell_type": "markdown",
   "metadata": {},
   "source": [
    "## Latitude vs. Wind Speed Plot"
   ]
  },
  {
   "cell_type": "code",
   "execution_count": 52,
   "metadata": {},
   "outputs": [
    {
     "data": {
      "image/png": "[encoded data removed]",
      "text/plain": [
       "<Figure size 432x288 with 1 Axes>"
      ]
     },
     "metadata": {
      "needs_background": "light"
     },
     "output_type": "display_data"
    }
   ],
   "source": [
    "# create scatter plot for lat vs. max temp\n",
    "plt.scatter(df[\"Lat\"], df[\"Wind Speed\"], facecolor=\"aqua\", edgecolor=\"b\")\n",
    "\n",
    "# title, axes, and gridlines\n",
    "plt.title(\"City Latitude vs. Wind Speed (03/03/21)\")\n",
    "plt.xlabel(\"Latitude\")\n",
    "plt.ylabel(\"Wind Speed (mph)\")\n",
    "plt.grid(alpha=0.25)\n",
    "\n",
    "# save png\n",
    "plt.savefig(\"output_data/lat_vs_wind_plot.png\")"
   ]
  },
  {
   "cell_type": "markdown",
   "metadata": {},
   "source": [
    "This plot does not clearly suggest any significant relationship between a city's latitude and wind speed."
   ]
  },
  {
   "cell_type": "markdown",
   "metadata": {},
   "source": [
    "## Linear Regression"
   ]
  },
  {
   "cell_type": "code",
   "execution_count": 55,
   "metadata": {},
   "outputs": [],
   "source": [
    "n_hem = df.loc[df[\"Lat\"] >= 0, :]\n",
    "s_hem = df.loc[df[\"Lat\"] < 0, :]"
   ]
  },
  {
   "cell_type": "markdown",
   "metadata": {},
   "source": [
    "####  Northern Hemisphere - Max Temp vs. Latitude Linear Regression"
   ]
  },
  {
   "cell_type": "code",
   "execution_count": 74,
   "metadata": {},
   "outputs": [
    {
     "name": "stdout",
     "output_type": "stream",
     "text": [
      "The r-value is: 0.7130402669889003\n",
      "As cities in the northern hemisphere move closer to the north pole and farther from the equator, temperatures drop.\n",
      "This proves a strong negative correlation between latitude and tempuratures in the northern hemisphere.\n"
     ]
    },
    {
     "data": {
      "image/png": "[encoded data removed]",
      "text/plain": [
       "<Figure size 432x288 with 1 Axes>"
      ]
     },
     "metadata": {
      "needs_background": "light"
     },
     "output_type": "display_data"
    }
   ],
   "source": [
    "x_vals = n_hem[\"Lat\"]\n",
    "y_vals = n_hem[\"Max Temp\"]\n",
    "(slope, intercept, rvalue, pvalue, stderr) = linregress(x_vals, y_vals)\n",
    "regress_vals = x_vals * slope + intercept\n",
    "line_eq = \"y = \" + str(round(slope,2)) + \"x +\" + str(round(intercept,2))\n",
    "\n",
    "plt.scatter(x_vals,y_vals, facecolor=\"aqua\", edgecolor=\"b\")\n",
    "plt.plot(x_vals,regress_vals,\"r-\")\n",
    "plt.title(\"N. Hemisphere - Max Temp vs. Latitude\")\n",
    "plt.xlabel('Latitude')\n",
    "plt.ylabel('Max Temperature (F)')\n",
    "plt.annotate(line_eq,(0,0),fontsize=15,color=\"red\")\n",
    "\n",
    "print(f\"The r-value is: {rvalue**2}\")\n",
    "print(\"As cities in the northern hemisphere move closer to the north pole and farther from the equator, temperatures drop.\")\n",
    "print(\"This proves a strong negative correlation between latitude and tempuratures in the northern hemisphere.\")\n",
    "plt.savefig(\"output_data/nhem_temp_v_lat_plot.png\")"
   ]
  },
  {
   "cell_type": "markdown",
   "metadata": {},
   "source": [
    "####  Southern Hemisphere - Max Temp vs. Latitude Linear Regression"
   ]
  },
  {
   "cell_type": "code",
   "execution_count": 75,
   "metadata": {},
   "outputs": [
    {
     "name": "stdout",
     "output_type": "stream",
     "text": [
      "The r-value is: 0.2136235181960462\n",
      "As some cities in the southern hemisphere move closer to the equator, temperatures rise.\n",
      "This proves a slight positive correlation between latitude and temperature in the southern hemisphere.\n"
     ]
    },
    {
     "data": {
      "image/png": "[encoded data removed]",
      "text/plain": [
       "<Figure size 432x288 with 1 Axes>"
      ]
     },
     "metadata": {
      "needs_background": "light"
     },
     "output_type": "display_data"
    }
   ],
   "source": [
    "x_vals = s_hem[\"Lat\"]\n",
    "y_vals = s_hem[\"Max Temp\"]\n",
    "(slope, intercept, rvalue, pvalue, stderr) = linregress(x_vals, y_vals)\n",
    "regress_vals = x_vals * slope + intercept\n",
    "line_eq = \"y = \" + str(round(slope,2)) + \"x +\" + str(round(intercept,2))\n",
    "\n",
    "plt.scatter(x_vals,y_vals, facecolor=\"aqua\", edgecolor=\"b\")\n",
    "plt.plot(x_vals,regress_vals,\"r-\")\n",
    "plt.title(\"S. Hemisphere - Max Temp vs. Latitude\")\n",
    "plt.xlabel('Latitude')\n",
    "plt.ylabel('Max Temperature (F)')\n",
    "plt.annotate(line_eq,(-55,93),fontsize=15,color=\"red\")\n",
    "\n",
    "print(f\"The r-value is: {rvalue**2}\")\n",
    "print(\"As some cities in the southern hemisphere move closer to the equator, temperatures rise.\")\n",
    "print(\"This proves a slight positive correlation between latitude and temperature in the southern hemisphere.\")\n",
    "plt.savefig(\"output_data/shem_temp_v_lat_plot.png\")"
   ]
  },
  {
   "cell_type": "markdown",
   "metadata": {},
   "source": [
    "####  Northern Hemisphere - Humidity (%) vs. Latitude Linear Regression"
   ]
  },
  {
   "cell_type": "code",
   "execution_count": 78,
   "metadata": {},
   "outputs": [
    {
     "name": "stdout",
     "output_type": "stream",
     "text": [
      "The r-value is: 0.1748430023140373\n",
      "There is a slight positive correlation between humidity and latitude for cities in the northern hemisphere.\n"
     ]
    },
    {
     "data": {
      "image/png": "[encoded data removed]",
      "text/plain": [
       "<Figure size 432x288 with 1 Axes>"
      ]
     },
     "metadata": {
      "needs_background": "light"
     },
     "output_type": "display_data"
    }
   ],
   "source": [
    "x_vals = n_hem[\"Lat\"]\n",
    "y_vals = n_hem[\"Humidity\"]\n",
    "(slope, intercept, rvalue, pvalue, stderr) = linregress(x_vals, y_vals)\n",
    "regress_vals = x_vals * slope + intercept\n",
    "line_eq = \"y = \" + str(round(slope,2)) + \"x +\" + str(round(intercept,2))\n",
    "\n",
    "plt.scatter(x_vals,y_vals, facecolor=\"aqua\", edgecolor=\"b\")\n",
    "plt.plot(x_vals,regress_vals,\"r-\")\n",
    "plt.title(\"N. Hemisphere - Humidity (%) vs. Latitude\")\n",
    "plt.xlabel('Latitude')\n",
    "plt.ylabel('Humidity (%)')\n",
    "plt.annotate(line_eq,(50,10),fontsize=15,color=\"red\")\n",
    "\n",
    "print(f\"The r-value is: {rvalue**2}\")\n",
    "print(\"There is a slight positive correlation between humidity and latitude for cities in the northern hemisphere.\")\n",
    "\n",
    "plt.savefig(\"output_data/nhem_humidity_v_lat_plot.png\")"
   ]
  },
  {
   "cell_type": "markdown",
   "metadata": {},
   "source": [
    "####  Southern Hemisphere - Humidity (%) vs. Latitude Linear Regression"
   ]
  },
  {
   "cell_type": "code",
   "execution_count": 81,
   "metadata": {},
   "outputs": [
    {
     "name": "stdout",
     "output_type": "stream",
     "text": [
      "The r-value is: 0.038817333237375455\n",
      "There is a little correlation between humidity and latitude for cities in the southern hemisphere.\n"
     ]
    },
    {
     "data": {
      "image/png": "[encoded data removed]",
      "text/plain": [
       "<Figure size 432x288 with 1 Axes>"
      ]
     },
     "metadata": {
      "needs_background": "light"
     },
     "output_type": "display_data"
    }
   ],
   "source": [
    "x_vals = s_hem[\"Lat\"]\n",
    "y_vals = s_hem[\"Humidity\"]\n",
    "(slope, intercept, rvalue, pvalue, stderr) = linregress(x_vals, y_vals)\n",
    "regress_vals = x_vals * slope + intercept\n",
    "line_eq = \"y = \" + str(round(slope,2)) + \"x +\" + str(round(intercept,2))\n",
    "\n",
    "plt.scatter(x_vals,y_vals, facecolor=\"aqua\", edgecolor=\"b\")\n",
    "plt.plot(x_vals,regress_vals,\"r-\")\n",
    "plt.title(\"S. Hemisphere - Humidity (%) vs. Latitude\")\n",
    "plt.xlabel('Latitude')\n",
    "plt.ylabel('Humidity (%)')\n",
    "plt.annotate(line_eq,(-25,20),fontsize=15,color=\"red\")\n",
    "\n",
    "print(f\"The r-value is: {rvalue**2}\")\n",
    "print(\"There is a little correlation between humidity and latitude for cities in the southern hemisphere.\")\n",
    "plt.savefig(\"output_data/shem_humidity_v_lat_plot.png\")"
   ]
  },
  {
   "cell_type": "markdown",
   "metadata": {},
   "source": [
    "####  Northern Hemisphere - Cloudiness (%) vs. Latitude Linear Regression"
   ]
  },
  {
   "cell_type": "code",
   "execution_count": 82,
   "metadata": {},
   "outputs": [
    {
     "name": "stdout",
     "output_type": "stream",
     "text": [
      "The r-value is: 0.12600037688547627\n",
      "There is a slight positive correlation between cloudiness and latitude for cities in the northern hemisphere.\n"
     ]
    },
    {
     "data": {
      "image/png": "[encoded data removed]",
      "text/plain": [
       "<Figure size 432x288 with 1 Axes>"
      ]
     },
     "metadata": {
      "needs_background": "light"
     },
     "output_type": "display_data"
    }
   ],
   "source": [
    "x_vals = n_hem[\"Lat\"]\n",
    "y_vals = n_hem[\"Cloudiness\"]\n",
    "(slope, intercept, rvalue, pvalue, stderr) = linregress(x_vals, y_vals)\n",
    "regress_vals = x_vals * slope + intercept\n",
    "line_eq = \"y = \" + str(round(slope,2)) + \"x +\" + str(round(intercept,2))\n",
    "\n",
    "plt.scatter(x_vals,y_vals, facecolor=\"aqua\", edgecolor=\"b\")\n",
    "plt.plot(x_vals,regress_vals,\"r-\")\n",
    "plt.title(\"N. Hemisphere - Cloudiness (%) vs. Latitude\")\n",
    "plt.xlabel('Latitude')\n",
    "plt.ylabel('Cloudiness (%)')\n",
    "plt.annotate(line_eq,(50,10),fontsize=15,color=\"red\")\n",
    "\n",
    "print(f\"The r-value is: {rvalue**2}\")\n",
    "print(\"There is a slight positive correlation between cloudiness and latitude for cities in the northern hemisphere.\")\n",
    "\n",
    "plt.savefig(\"output_data/nhem_cloudiness_v_lat_plot.png\")"
   ]
  },
  {
   "cell_type": "markdown",
   "metadata": {},
   "source": [
    "####  Southern Hemisphere - Cloudiness (%) vs. Latitude Linear Regression"
   ]
  },
  {
   "cell_type": "code",
   "execution_count": 86,
   "metadata": {},
   "outputs": [
    {
     "name": "stdout",
     "output_type": "stream",
     "text": [
      "The r-value is: 0.0055279143176624485\n",
      "There is a little correlation between cloudiness and latitude for cities in the southern hemisphere.\n"
     ]
    },
    {
     "data": {
      "image/png": "[encoded data removed]",
      "text/plain": [
       "<Figure size 432x288 with 1 Axes>"
      ]
     },
     "metadata": {
      "needs_background": "light"
     },
     "output_type": "display_data"
    }
   ],
   "source": [
    "x_vals = s_hem[\"Lat\"]\n",
    "y_vals = s_hem[\"Cloudiness\"]\n",
    "(slope, intercept, rvalue, pvalue, stderr) = linregress(x_vals, y_vals)\n",
    "regress_vals = x_vals * slope + intercept\n",
    "line_eq = \"y = \" + str(round(slope,2)) + \"x +\" + str(round(intercept,2))\n",
    "\n",
    "plt.scatter(x_vals,y_vals, facecolor=\"aqua\", edgecolor=\"b\")\n",
    "plt.plot(x_vals,regress_vals,\"r-\")\n",
    "plt.title(\"S. Hemisphere - Cloudiness (%) vs. Latitude\")\n",
    "plt.xlabel('Latitude')\n",
    "plt.ylabel('Cloudiness (%)')\n",
    "plt.annotate(line_eq,(-50,45),fontsize=15,color=\"red\")\n",
    "\n",
    "print(f\"The r-value is: {rvalue**2}\")\n",
    "print(\"There is a little correlation between cloudiness and latitude for cities in the southern hemisphere.\")\n",
    "\n",
    "plt.savefig(\"output_data/shem_cloudiness_v_lat_plot.png\")"
   ]
  },
  {
   "cell_type": "markdown",
   "metadata": {},
   "source": [
    "####  Northern Hemisphere - Wind Speed (mph) vs. Latitude Linear Regression"
   ]
  },
  {
   "cell_type": "code",
   "execution_count": 90,
   "metadata": {},
   "outputs": [
    {
     "name": "stdout",
     "output_type": "stream",
     "text": [
      "The r-value is: 0.004980920683496572\n",
      "There is a little correlation between wind speed and latitude for cities in the northern hemisphere.\n"
     ]
    },
    {
     "data": {
      "image/png": "[encoded data removed]",
      "text/plain": [
       "<Figure size 432x288 with 1 Axes>"
      ]
     },
     "metadata": {
      "needs_background": "light"
     },
     "output_type": "display_data"
    }
   ],
   "source": [
    "x_vals = n_hem[\"Lat\"]\n",
    "y_vals = n_hem[\"Wind Speed\"]\n",
    "(slope, intercept, rvalue, pvalue, stderr) = linregress(x_vals, y_vals)\n",
    "regress_vals = x_vals * slope + intercept\n",
    "line_eq = \"y = \" + str(round(slope,2)) + \"x +\" + str(round(intercept,2))\n",
    "\n",
    "plt.scatter(x_vals,y_vals, facecolor=\"aqua\", edgecolor=\"b\")\n",
    "plt.plot(x_vals,regress_vals,\"r-\")\n",
    "plt.title(\"N. Hemisphere - Wind Speed (mph) vs. Latitude\")\n",
    "plt.xlabel('Latitude')\n",
    "plt.ylabel('Wind Speed (mph)')\n",
    "plt.annotate(line_eq,(5,35),fontsize=15,color=\"red\")\n",
    "\n",
    "print(f\"The r-value is: {rvalue**2}\")\n",
    "print(\"There is a little correlation between wind speed and latitude for cities in the northern hemisphere.\")\n",
    "\n",
    "plt.savefig(\"output_data/nhem_wind_v_lat_plot.png\")"
   ]
  },
  {
   "cell_type": "markdown",
   "metadata": {},
   "source": [
    "####  Southern Hemisphere - Wind Speed (mph) vs. Latitude Linear Regression"
   ]
  },
  {
   "cell_type": "code",
   "execution_count": 95,
   "metadata": {},
   "outputs": [
    {
     "name": "stdout",
     "output_type": "stream",
     "text": [
      "The r-value is: 0.10481530336994127\n",
      "There is a slightly negative correlation between wind speed and latitude for cities in the southern hemisphere.\n"
     ]
    },
    {
     "data": {
      "image/png": "[encoded data removed]",
      "text/plain": [
       "<Figure size 432x288 with 1 Axes>"
      ]
     },
     "metadata": {
      "needs_background": "light"
     },
     "output_type": "display_data"
    }
   ],
   "source": [
    "x_vals = s_hem[\"Lat\"]\n",
    "y_vals = s_hem[\"Wind Speed\"]\n",
    "(slope, intercept, rvalue, pvalue, stderr) = linregress(x_vals, y_vals)\n",
    "regress_vals = x_vals * slope + intercept\n",
    "line_eq = \"y = \" + str(round(slope,2)) + \"x +\" + str(round(intercept,2))\n",
    "\n",
    "plt.scatter(x_vals,y_vals, facecolor=\"aqua\", edgecolor=\"b\")\n",
    "plt.plot(x_vals,regress_vals,\"r-\")\n",
    "plt.title(\"S. Hemisphere - Wind Speed (mph)  vs. Latitude\")\n",
    "plt.xlabel('Latitude')\n",
    "plt.ylabel('Wind Speed (mph)')\n",
    "plt.annotate(line_eq,(-25,23),fontsize=15,color=\"red\")\n",
    "\n",
    "print(f\"The r-value is: {rvalue**2}\")\n",
    "print(\"There is a slightly negative correlation between wind speed and latitude for cities in the southern hemisphere.\")\n",
    "\n",
    "plt.savefig(\"output_data/shem_wind_v_lat_plot.png\")"
   ]
  },
  {
   "cell_type": "code",
   "execution_count": null,
   "metadata": {},
   "outputs": [],
   "source": []
  }
 ],
 "metadata": {
  "anaconda-cloud": {},
  "kernel_info": {
   "name": "python3"
  },
  "kernelspec": {
   "display_name": "Python 3",
   "language": "python",
   "name": "python3"
  },
  "language_info": {
   "codemirror_mode": {
    "name": "ipython",
    "version": 3
   },
   "file_extension": ".py",
   "mimetype": "text/x-python",
   "name": "python",
   "nbconvert_exporter": "python",
   "pygments_lexer": "ipython3",
   "version": "3.8.3"
  },
  "latex_envs": {
   "LaTeX_envs_menu_present": true,
   "autoclose": false,
   "autocomplete": true,
   "bibliofile": "biblio.bib",
   "cite_by": "apalike",
   "current_citInitial": 1,
   "eqLabelWithNumbers": true,
   "eqNumInitial": 1,
   "hotkeys": {
    "equation": "Ctrl-E",
    "itemize": "Ctrl-I"
   },
   "labels_anchors": false,
   "latex_user_defs": false,
   "report_style_numbering": false,
   "user_envs_cfg": false
  },
  "nteract": {
   "version": "0.12.3"
  }
 },
 "nbformat": 4,
 "nbformat_minor": 2
}
